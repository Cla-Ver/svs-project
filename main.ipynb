{
 "cells": [
  {
   "cell_type": "code",
   "execution_count": null,
   "metadata": {},
   "outputs": [],
   "source": [
    "#import tensorflow as tf\n",
    "import numpy as np\n",
    "#import keras_cv\n",
    "import cv2\n",
    "#from tensorflow import keras\n",
    "from matplotlib import pyplot as plt\n",
    "import carla\n",
    "import time\n",
    "from ultralytics import YOLO\n",
    "import torch, torchvision\n",
    "\n",
    "client = carla.Client('localhost', 2000)\n",
    "client.set_timeout(10.0)\n",
    "world = client.get_world()\n",
    "spectator = world.get_spectator()\n",
    "model_input_shape = 512\n",
    "\n",
    "def move_spectator_to(transform, distance=5.0, x=0, y=0, z=4, yaw=0, pitch=-30, roll=0):\n",
    "    back_location = transform.location - transform.get_forward_vector() * distance\n",
    "    \n",
    "    back_location.x += x\n",
    "    back_location.y += y\n",
    "    back_location.z += z\n",
    "    transform.rotation.yaw += yaw\n",
    "    transform.rotation.pitch = pitch\n",
    "    transform.rotation.roll = roll\n",
    "    \n",
    "    spectator_transform = carla.Transform(back_location, transform.rotation)\n",
    "    \n",
    "    spectator.set_transform(spectator_transform)\n",
    "\n",
    "def spawn_vehicle(vehicle_index=0, spawn_index=0, pattern='vehicle.*'):\n",
    "    blueprint_library = world.get_blueprint_library()\n",
    "    vehicle_bp = blueprint_library.filter(pattern)[vehicle_index]\n",
    "    spawn_point = world.get_map().get_spawn_points()[spawn_index]\n",
    "    vehicle = world.spawn_actor(vehicle_bp, spawn_point)\n",
    "    return vehicle\n",
    "\n",
    "def spawn_camera(attach_to=None, transform=carla.Transform(carla.Location(x=1.2, z=1.2), carla.Rotation(pitch=-10)), width=800, height=600):\n",
    "    camera_bp = world.get_blueprint_library().find('sensor.camera.rgb')\n",
    "    camera_bp.set_attribute('image_size_x', str(width))\n",
    "    camera_bp.set_attribute('image_size_y', str(height))\n",
    "    camera = world.spawn_actor(camera_bp, transform, attach_to=attach_to)\n",
    "    return camera\n",
    "\n",
    "def resize_image(image):\n",
    "    if max(image.shape[0], image.shape[1]) > model_input_shape:\n",
    "        if image.shape[0] > image.shape[1]:\n",
    "            height = model_input_shape\n",
    "            width = int(image.shape[1] * model_input_shape / image.shape[0])\n",
    "        else:\n",
    "            height = int(image.shape[0] * model_input_shape / image.shape[1])\n",
    "            width = model_input_shape\n",
    "    resized_image = cv2.resize(image, (int(width), int(height)))\n",
    "    resized_image = cv2.copyMakeBorder(resized_image, 0, model_input_shape - resized_image.shape[0], 0, model_input_shape - resized_image.shape[1], cv2.BORDER_CONSTANT, value=[0, 0, 0])\n",
    "    scale = model_input_shape / max(image.shape[0], image.shape[1])\n",
    "    return scale, resized_image\n",
    "\n",
    "camera_bp = world.get_blueprint_library().find('sensor.camera.rgb')\n",
    "camera_bp.set_attribute('image_size_x', '1920')\n",
    "camera_bp.set_attribute('image_size_y', '1080')\n",
    "camera_bp.set_attribute('fov', '90')\n",
    "camera_bp.set_attribute('sensor_tick', '0.0')\n",
    "camera_bp.set_attribute('motion_blur_intensity', '0.0')\n",
    "spawn_point = carla.Transform()\n",
    "\n",
    "#yolov8_backbone = keras_cv.models.YOLOV8Backbone.from_preset('yolo_v8_s_backbone_coco',load_weights=True)\n",
    "yolov8_plates_detector = YOLO(\"runs/detect/train8/weights/best.pt\")\n",
    "\n",
    "#yolov8_plates_detector = keras_cv.models.YOLOV8Detector(backbone=yolov8_backbone,num_classes=1,bounding_box_format='xywh')\n",
    "#yolov8_plates_detector.compile(optimizer='adam', classification_loss='binary_crossentropy', box_loss='ciou')\n",
    "model_input_shape = 512\n",
    "#yolov8_plates_detector.load_weights(\"model_checkpoints_3.8/checkpoint_epoch_24.weights.h5\")"
   ]
  },
  {
   "cell_type": "code",
   "execution_count": 10,
   "metadata": {},
   "outputs": [
    {
     "name": "stdout",
     "output_type": "stream",
     "text": [
      "Shutting down...\n"
     ]
    }
   ],
   "source": [
    "ego_vehicle = spawn_vehicle(spawn_index=7)\n",
    "static_vehicle = spawn_vehicle(spawn_index=9)\n",
    "\n",
    "camera = world.spawn_actor(camera_bp, carla.Transform(carla.Location(x=1.7, z=1.2), carla.Rotation(pitch=-10)), attach_to=ego_vehicle)\n",
    "video_output = np.zeros((model_input_shape, model_input_shape, 4), dtype=np.uint8)\n",
    "saved_location = carla.Location(x=0, y=0, z=0)\n",
    "\n",
    "def camera_callback(image):\n",
    "    global video_output\n",
    "    output = np.reshape(np.copy(image.raw_data), (image.height, image.width, 4))\n",
    "    cv2.imwrite(\"test.png\", output)\n",
    "    img = cv2.imread(\"test.png\", cv2.IMREAD_COLOR)\n",
    "    #scale, resized_image = resize_image(img)\n",
    "    #cv2.imwrite(\"rescaled_test.png\", resized_image)\n",
    "    #img2 = cv2.imread(\"rescaled_test.png\")\n",
    "    #pred = yolov8_plates_detector(\"rescaled_test.png\")\n",
    "    #rescaling_factor = 1 / scale\n",
    "    #for result in pred:\n",
    "    #    boxes = result.boxes\n",
    "    #    if boxes:\n",
    "    #        cv2.rectangle(img, (int(boxes.xyxy[0][0].item() * rescaling_factor), int(boxes.xyxy[0][1].item() * rescaling_factor)), (int((boxes.xyxy[0][2].item() * rescaling_factor)), int((boxes.xyxy[0][3].item() * rescaling_factor))), (0, 255, 0), 1)\n",
    "    #for box in pred[\"boxes\"][0]:\n",
    "    #    if box[0] == -1:\n",
    "    #        break\n",
    "    #    rescaling_factor = 1 / scale\n",
    "    #    box = box * rescaling_factor\n",
    "    #    cv2.rectangle(img, (int(box[0]), int(box[1])), (int((box[0] + box[2])), int((box[1] + box[3]))), (0, 255, 0), 1)\n",
    "    video_output = img\n",
    "\n",
    "\n",
    "camera.listen(lambda image: camera_callback(image))\n",
    "\n",
    "ego_vehicle.set_autopilot(True)\n",
    "static_vehicle.set_autopilot(True)\n",
    "\n",
    "cv2.namedWindow('RGB Camera', cv2.WINDOW_AUTOSIZE)\n",
    "\n",
    "running = True\n",
    "\n",
    "try:\n",
    "    while running:\n",
    "        if cv2.waitKey(1) == ord('q'):\n",
    "            running = False\n",
    "            break\n",
    "        if video_output is not None:\n",
    "            cv2.imshow('RGB Camera', video_output)\n",
    "        if cv2.waitKey(1) == ord('s'):\n",
    "            saved_location = ego_vehicle.get_location()\n",
    "            print(\"Saved location: \", saved_location)\n",
    "except Exception as e:\n",
    "    print(f\"Error occurred: {e}\")\n",
    "finally:\n",
    "    print(\"Shutting down...\")\n",
    "    cv2.destroyAllWindows()\n",
    "    if 'camera' in locals() and camera.is_alive:\n",
    "        camera.destroy()\n",
    "    for actor in world.get_actors():\n",
    "        if actor.type_id.startswith('vehicle.') or actor.type_id.startswith('sensor.camera'):\n",
    "            actor.destroy()\n"
   ]
  },
  {
   "cell_type": "code",
   "execution_count": 37,
   "metadata": {},
   "outputs": [],
   "source": [
    "for vehicle in world.get_actors().filter('vehicle.*'):\n",
    "    vehicle.destroy()\n"
   ]
  },
  {
   "cell_type": "code",
   "execution_count": 50,
   "metadata": {},
   "outputs": [],
   "source": [
    "world.set_weather(carla.WeatherParameters.ClearNight)"
   ]
  },
  {
   "cell_type": "code",
   "execution_count": 1,
   "metadata": {},
   "outputs": [
    {
     "name": "stdout",
     "output_type": "stream",
     "text": [
      "True\n",
      "11.8\n",
      "90100\n",
      "0.19.1+cu118\n"
     ]
    }
   ],
   "source": [
    "import torch, torchvision\n",
    "print(torch.cuda.is_available())\n",
    "print(torch.version.cuda)\n",
    "print(torch.backends.cudnn.version())\n",
    "print(torchvision.__version__)\n"
   ]
  }
 ],
 "metadata": {
  "kernelspec": {
   "display_name": "carla-test",
   "language": "python",
   "name": "python3"
  },
  "language_info": {
   "codemirror_mode": {
    "name": "ipython",
    "version": 3
   },
   "file_extension": ".py",
   "mimetype": "text/x-python",
   "name": "python",
   "nbconvert_exporter": "python",
   "pygments_lexer": "ipython3",
   "version": "3.8.20"
  }
 },
 "nbformat": 4,
 "nbformat_minor": 2
}
