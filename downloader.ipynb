{
 "cells": [
  {
   "cell_type": "code",
   "execution_count": 1,
   "metadata": {},
   "outputs": [],
   "source": [
    "import pandas as pd\n",
    "import requests, os\n"
   ]
  },
  {
   "cell_type": "code",
   "execution_count": 2,
   "metadata": {},
   "outputs": [
    {
     "name": "stdout",
     "output_type": "stream",
     "text": [
      "Reading annotations...\n",
      "Done reading.\n"
     ]
    }
   ],
   "source": [
    "class_descriptions = pd.read_csv(\"class-descriptions-boxable.csv\", header=0, names=[\"LabelName\", \"ClassName\"])\n",
    "plate_label = class_descriptions[class_descriptions[\"ClassName\"] == \"Vehicle registration plate\"][\"LabelName\"].values[0]\n",
    "print(\"Reading annotations...\")\n",
    "annotations = pd.read_csv(\"test_csv/test-annotations-bbox.csv\", header=0)\n",
    "print(\"Done reading.\")\n",
    "plate_annotations = annotations[annotations[\"LabelName\"] == plate_label]\n"
   ]
  },
  {
   "cell_type": "code",
   "execution_count": 3,
   "metadata": {},
   "outputs": [
    {
     "name": "stdout",
     "output_type": "stream",
     "text": [
      "Reading image ids...\n",
      "Filtering urls...\n",
      "Filtered.\n"
     ]
    }
   ],
   "source": [
    "image_ids = plate_annotations[\"ImageID\"].unique()\n",
    "print(\"Reading image ids...\")\n",
    "image_urls = pd.read_csv(\"test_csv/test-images-with-rotation.csv\", header=0)\n",
    "print(\"Filtering urls...\")\n",
    "filtered_urls = image_urls[image_urls[\"ImageID\"].isin(image_ids)]\n",
    "print(\"Filtered.\")"
   ]
  },
  {
   "cell_type": "code",
   "execution_count": 4,
   "metadata": {},
   "outputs": [
    {
     "name": "stdout",
     "output_type": "stream",
     "text": [
      "                 ImageID Subset  \\\n",
      "1       dab3e432f1ee4ae4   test   \n",
      "82      029f8110e3dea2d8   test   \n",
      "192     2ac399c5a0624f7f   test   \n",
      "214     9eee72c6d2f2ceda   test   \n",
      "311     9fde499f841a4675   test   \n",
      "...                  ...    ...   \n",
      "125278  ba93e95115c8b3e9   test   \n",
      "125291  64d68bacc008d1a8   test   \n",
      "125316  9ba3665bc1041df9   test   \n",
      "125339  449f33208665f2ab   test   \n",
      "125354  9ed6e1cc46d234e0   test   \n",
      "\n",
      "                                              OriginalURL  \\\n",
      "1       https://farm5.staticflickr.com/8790/1723529903...   \n",
      "82      https://c1.staticflickr.com/4/3082/3160781939_...   \n",
      "192     https://c8.staticflickr.com/4/3083/2677321692_...   \n",
      "214     https://c3.staticflickr.com/4/3417/3375999796_...   \n",
      "311     https://farm6.staticflickr.com/4010/4325272726...   \n",
      "...                                                   ...   \n",
      "125278  https://c2.staticflickr.com/7/6026/5880907595_...   \n",
      "125291  https://c1.staticflickr.com/2/1400/5177097411_...   \n",
      "125316  https://c2.staticflickr.com/8/7578/15668500118...   \n",
      "125339  https://c4.staticflickr.com/7/6007/5918240955_...   \n",
      "125354  https://farm1.staticflickr.com/7473/1590460179...   \n",
      "\n",
      "                                       OriginalLandingURL  \\\n",
      "1       https://www.flickr.com/photos/92414546@N04/172...   \n",
      "82      https://www.flickr.com/photos/mundotecnologico...   \n",
      "192     https://www.flickr.com/photos/jean_koulev/2677...   \n",
      "214      https://www.flickr.com/photos/ndrwfgg/3375999796   \n",
      "311     https://www.flickr.com/photos/stradablog/43252...   \n",
      "...                                                   ...   \n",
      "125278  https://www.flickr.com/photos/bao_tri_nguyen/5...   \n",
      "125291  https://www.flickr.com/photos/cjalallian/51770...   \n",
      "125316    https://www.flickr.com/photos/otobd/15668500118   \n",
      "125339  https://www.flickr.com/photos/8058098@N07/5918...   \n",
      "125354  https://www.flickr.com/photos/supermac/1590460...   \n",
      "\n",
      "                                             License  \\\n",
      "1       https://creativecommons.org/licenses/by/2.0/   \n",
      "82      https://creativecommons.org/licenses/by/2.0/   \n",
      "192     https://creativecommons.org/licenses/by/2.0/   \n",
      "214     https://creativecommons.org/licenses/by/2.0/   \n",
      "311     https://creativecommons.org/licenses/by/2.0/   \n",
      "...                                              ...   \n",
      "125278  https://creativecommons.org/licenses/by/2.0/   \n",
      "125291  https://creativecommons.org/licenses/by/2.0/   \n",
      "125316  https://creativecommons.org/licenses/by/2.0/   \n",
      "125339  https://creativecommons.org/licenses/by/2.0/   \n",
      "125354  https://creativecommons.org/licenses/by/2.0/   \n",
      "\n",
      "                                         AuthorProfileURL  \\\n",
      "1             https://www.flickr.com/people/92414546@N04/   \n",
      "82      https://www.flickr.com/people/mundotecnologico...   \n",
      "192            https://www.flickr.com/people/jean_koulev/   \n",
      "214                https://www.flickr.com/people/ndrwfgg/   \n",
      "311             https://www.flickr.com/people/stradablog/   \n",
      "...                                                   ...   \n",
      "125278      https://www.flickr.com/people/bao_tri_nguyen/   \n",
      "125291          https://www.flickr.com/people/cjalallian/   \n",
      "125316               https://www.flickr.com/people/otobd/   \n",
      "125339         https://www.flickr.com/people/8058098@N07/   \n",
      "125354            https://www.flickr.com/people/supermac/   \n",
      "\n",
      "                                Author  \\\n",
      "1                             davejdoe   \n",
      "82      MUNDO TECNOLOGICO BY CHILENSIS   \n",
      "192                        Jean KOULEV   \n",
      "214                 Andy / Andrew Fogg   \n",
      "311                       Tino Rossini   \n",
      "...                                ...   \n",
      "125278                      Tri Nguyen   \n",
      "125291                      cjalallian   \n",
      "125316                Ô tô  Bình Dương   \n",
      "125339                       nakhon100   \n",
      "125354                    Supermac1961   \n",
      "\n",
      "                                            Title  OriginalSize  \\\n",
      "1                                           Goals       9146892   \n",
      "82       Ferrari 599 GTB Fiorano Unico en Chile 4        464237   \n",
      "192                                 Apple Sticker        381020   \n",
      "214                             3 - and a bit (1)        399370   \n",
      "311                              2010 GMC Terrain        637073   \n",
      "...                                           ...           ...   \n",
      "125278                           X3 another dream       1310532   \n",
      "125291                                      Tonka       5514359   \n",
      "125316                     Audi A7 Sportback 2015        917980   \n",
      "125339                        Volkswagen Golf GTi        399225   \n",
      "125354  My new weekend toy...Porsche Boxster 3.4S       3056927   \n",
      "\n",
      "                     OriginalMD5  \\\n",
      "1       SE2ABMxpBmqDaq+dan13UA==   \n",
      "82      tjivfxj2LLKnDhE9jpytfQ==   \n",
      "192     kScaTFQRSxsyzRq1ts8kBw==   \n",
      "214     U+pR1G2GNlkayiunivZp+Q==   \n",
      "311     GjMafpwbEPimn7QGQb3JeQ==   \n",
      "...                          ...   \n",
      "125278  D/xEpmmQLMYObnCTKipxaA==   \n",
      "125291  ueBzHzjGsHqdmXKNBLqFCg==   \n",
      "125316  qihyydGxm/CGLnlUfM2c5w==   \n",
      "125339  wEJIVSy1mZ2FSCW/SsbZTg==   \n",
      "125354  4Qi7IqawAB17vC3pFrgh7A==   \n",
      "\n",
      "                                         Thumbnail300KURL  Rotation  \n",
      "1       https://c1.staticflickr.com/9/8790/17235299036...       0.0  \n",
      "82      https://c1.staticflickr.com/4/3082/3160781939_...       0.0  \n",
      "192     https://c5.staticflickr.com/4/3083/2677321692_...       0.0  \n",
      "214     https://c6.staticflickr.com/4/3417/3375999796_...       0.0  \n",
      "311     https://c2.staticflickr.com/5/4010/4325272726_...       0.0  \n",
      "...                                                   ...       ...  \n",
      "125278  https://c8.staticflickr.com/7/6026/5880907595_...       0.0  \n",
      "125291  https://c6.staticflickr.com/2/1400/5177097411_...       0.0  \n",
      "125316  https://c2.staticflickr.com/8/7578/15668500118...       0.0  \n",
      "125339  https://c8.staticflickr.com/7/6007/5918240955_...       0.0  \n",
      "125354  https://c2.staticflickr.com/8/7473/15904601791...       0.0  \n",
      "\n",
      "[2065 rows x 12 columns]\n"
     ]
    }
   ],
   "source": [
    "print(filtered_urls)"
   ]
  },
  {
   "cell_type": "code",
   "execution_count": 4,
   "metadata": {},
   "outputs": [
    {
     "name": "stdout",
     "output_type": "stream",
     "text": [
      "/m/01jfm_\n"
     ]
    }
   ],
   "source": [
    "print(plate_label)"
   ]
  },
  {
   "cell_type": "code",
   "execution_count": 9,
   "metadata": {},
   "outputs": [],
   "source": [
    "with open(\"images_test.txt\", \"w\") as imgs:\n",
    "    for _, row in filtered_urls.iterrows():\n",
    "        imgs.write(f\"test/{row[\"ImageID\"]}\\n\")\n"
   ]
  }
 ],
 "metadata": {
  "kernelspec": {
   "display_name": "Python 3",
   "language": "python",
   "name": "python3"
  },
  "language_info": {
   "codemirror_mode": {
    "name": "ipython",
    "version": 3
   },
   "file_extension": ".py",
   "mimetype": "text/x-python",
   "name": "python",
   "nbconvert_exporter": "python",
   "pygments_lexer": "ipython3",
   "version": "3.12.0"
  }
 },
 "nbformat": 4,
 "nbformat_minor": 2
}
